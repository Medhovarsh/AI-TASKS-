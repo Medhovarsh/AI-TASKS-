{
  "nbformat": 4,
  "nbformat_minor": 0,
  "metadata": {
    "colab": {
      "name": "NUMPY .ipynb",
      "provenance": [],
      "collapsed_sections": [],
      "toc_visible": true
    },
    "kernelspec": {
      "name": "python3",
      "display_name": "Python 3"
    },
    "language_info": {
      "name": "python"
    }
  },
  "cells": [
    {
      "cell_type": "code",
      "metadata": {
        "id": "spPIktQ_4Vyv"
      },
      "source": [
        "import numpy as np"
      ],
      "execution_count": null,
      "outputs": []
    },
    {
      "cell_type": "code",
      "metadata": {
        "colab": {
          "base_uri": "https://localhost:8080/"
        },
        "id": "7u0jsnYTEkGH",
        "outputId": "c66b5b56-a2ab-4090-e402-9eb0922d4e6a"
      },
      "source": [
        "my_python_list =[1,9,3,6]\n",
        "print(my_python_list)"
      ],
      "execution_count": null,
      "outputs": [
        {
          "output_type": "stream",
          "name": "stdout",
          "text": [
            "[1, 9, 3, 6]\n"
          ]
        }
      ]
    },
    {
      "cell_type": "code",
      "metadata": {
        "colab": {
          "base_uri": "https://localhost:8080/"
        },
        "id": "vEn50DGXE8e7",
        "outputId": "036630c5-616c-4a96-8eb9-12611a269960"
      },
      "source": [
        "numpy_array_from_list=np.array(my_python_list)\n",
        "#here list is changed into array \n",
        "numpy_array_from_list"
      ],
      "execution_count": null,
      "outputs": [
        {
          "output_type": "execute_result",
          "data": {
            "text/plain": [
              "array([1, 9, 3, 6])"
            ]
          },
          "metadata": {},
          "execution_count": 6
        }
      ]
    },
    {
      "cell_type": "code",
      "metadata": {
        "colab": {
          "base_uri": "https://localhost:8080/"
        },
        "id": "LbeUEfHLFb-e",
        "outputId": "97b06478-9c4b-4aaa-f6fd-f2da9dc0da77"
      },
      "source": [
        "a=np.array([1,9,3,5])\n",
        "print(a)"
      ],
      "execution_count": null,
      "outputs": [
        {
          "output_type": "stream",
          "name": "stdout",
          "text": [
            "[1 9 3 5]\n"
          ]
        }
      ]
    },
    {
      "cell_type": "code",
      "metadata": {
        "colab": {
          "base_uri": "https://localhost:8080/"
        },
        "id": "JL8gw0gcFuTE",
        "outputId": "695b4d7e-fba4-441f-df21-97baa00bf219"
      },
      "source": [
        "x=numpy_array_from_list+10\n",
        "# here 10 is added to each and every number of array i.e.. 1+10=11,9+10=19,3+10=13,6+10=16\n",
        "print(x)"
      ],
      "execution_count": null,
      "outputs": [
        {
          "output_type": "stream",
          "name": "stdout",
          "text": [
            "[11 19 13 16]\n"
          ]
        }
      ]
    },
    {
      "cell_type": "code",
      "metadata": {
        "colab": {
          "base_uri": "https://localhost:8080/"
        },
        "id": "IAnOhDkgF36f",
        "outputId": "5181aa2a-970b-425a-fddb-01226bfaeb4e"
      },
      "source": [
        "a=np.array([1,2,18,3,6])\n",
        "# shape of an array says about its dimensions and no_of_objects in it\n",
        "# as they are 5 elements shape is 5\n",
        "print(a.shape)\n",
        "# here datatype indicates whether the data is complex or int or float\n",
        "# 64 in int64 indicates no_of_bits in an element\n",
        "print(a.dtype)"
      ],
      "execution_count": null,
      "outputs": [
        {
          "output_type": "stream",
          "name": "stdout",
          "text": [
            "(5,)\n",
            "int64\n"
          ]
        }
      ]
    },
    {
      "cell_type": "code",
      "metadata": {
        "colab": {
          "base_uri": "https://localhost:8080/"
        },
        "id": "_1gUk6KMGeVp",
        "outputId": "4d27564e-c04e-43b0-cda1-f2fd30205875"
      },
      "source": [
        "b=np.array([5.6,2.4,1.2,0.9])\n",
        "# shape of an array says about its dimensions and no_of_objects in it\n",
        "# as they are 4 elements shape is 4\n",
        "print(b.shape)\n",
        "# here datatype indicates whether the data is complex or int or float\n",
        "# 64 in float64 indicates no_of_bits in an element\n",
        "print(b.dtype)"
      ],
      "execution_count": null,
      "outputs": [
        {
          "output_type": "stream",
          "name": "stdout",
          "text": [
            "(4,)\n",
            "float64\n"
          ]
        }
      ]
    },
    {
      "cell_type": "code",
      "metadata": {
        "colab": {
          "base_uri": "https://localhost:8080/"
        },
        "id": "nmD8vO94SIqM",
        "outputId": "4dd42d40-1a63-46d5-cdf1-2182d9bd7bad"
      },
      "source": [
        "arr = np.array([[1, 2, 3, 4,19], [5, 6, 7, 8,10]])\n",
        "# shape of an array says about its dimensions and no_of_objects in it\n",
        "# here there are 2 dimensions and 5 elements in each  dimension\n",
        "print(arr.shape)"
      ],
      "execution_count": null,
      "outputs": [
        {
          "output_type": "stream",
          "name": "stdout",
          "text": [
            "(2, 5)\n"
          ]
        }
      ]
    },
    {
      "cell_type": "code",
      "metadata": {
        "colab": {
          "base_uri": "https://localhost:8080/"
        },
        "id": "UAdXG713I-Wz",
        "outputId": "19a9ea0e-cb73-42ad-c5f1-3acc4ed690c8"
      },
      "source": [
        "d=np.array([[1, 2, 3, 4, 19], \n",
        "            [5, 6, 7, 8, 10]])\n",
        "print(d)"
      ],
      "execution_count": null,
      "outputs": [
        {
          "output_type": "stream",
          "name": "stdout",
          "text": [
            "[[ 1  2  3  4 19]\n",
            " [ 5  6  7  8 10]]\n"
          ]
        }
      ]
    },
    {
      "cell_type": "code",
      "metadata": {
        "colab": {
          "base_uri": "https://localhost:8080/"
        },
        "id": "hP6Rd2oVLM0U",
        "outputId": "7b0844b5-2a0a-4c7f-a2ff-7369a1ddd7fb"
      },
      "source": [
        "d = np.array([\n",
        "    [[1, 2, 3],\n",
        "        [4, 5, 6]],\n",
        "    [[7, 8, 9],\n",
        "        [10, 11, 12]]\n",
        "])\n",
        "print(d.shape)\n",
        "# shape of an array says about its dimensions and no_of_objects in it\n",
        "# here there are two parts in each one there are two dimensions . In each dimension there are 3 elements\n",
        "print(d)"
      ],
      "execution_count": null,
      "outputs": [
        {
          "output_type": "stream",
          "name": "stdout",
          "text": [
            "(2, 2, 3)\n",
            "[[[ 1  2  3]\n",
            "  [ 4  5  6]]\n",
            "\n",
            " [[ 7  8  9]\n",
            "  [10 11 12]]]\n"
          ]
        }
      ]
    },
    {
      "cell_type": "code",
      "metadata": {
        "colab": {
          "base_uri": "https://localhost:8080/"
        },
        "id": "x1Cw9Tpj717U",
        "outputId": "6e4139b2-9ebb-4eb9-be6f-8c8c05093ca3"
      },
      "source": [
        "import numpy as np\n",
        "x=np.zeros((2,2), dtype=np.int16)\n",
        "# here np.zeroes gives a new array in which all elements are 0\n",
        "#In np.ones((2,2):\n",
        "# Here 2 is no_of_dimensions \n",
        "# here 2 is no_of_elements\n",
        "print(x)"
      ],
      "execution_count": null,
      "outputs": [
        {
          "output_type": "stream",
          "name": "stdout",
          "text": [
            "[[[0 0]\n",
            "  [0 0]]]\n"
          ]
        }
      ]
    },
    {
      "cell_type": "code",
      "metadata": {
        "colab": {
          "base_uri": "https://localhost:8080/"
        },
        "id": "Q_cC8SN9Lnfj",
        "outputId": "7d94f51e-120f-4842-99d3-2b0da7c20649"
      },
      "source": [
        "import numpy as np\n",
        "y=np.ones((3,4), dtype=np.int64)\n",
        "#In np.ones((3,4):\n",
        "# Here 3 is no_of_dimensions \n",
        "# here 4 is no_of_elements\n",
        "#here np.ones gives a new array in which all elements are 1\n",
        "print(y.shape)\t\n",
        "print(y)"
      ],
      "execution_count": null,
      "outputs": [
        {
          "output_type": "stream",
          "name": "stdout",
          "text": [
            "(3, 4)\n",
            "[[1 1 1 1]\n",
            " [1 1 1 1]\n",
            " [1 1 1 1]]\n"
          ]
        }
      ]
    },
    {
      "cell_type": "code",
      "metadata": {
        "colab": {
          "base_uri": "https://localhost:8080/"
        },
        "id": "nKY-DdKQMJPG",
        "outputId": "c85865e8-7632-4bd5-d86e-9c309fb28abe"
      },
      "source": [
        "import numpy as np\n",
        "e  = np.array([(1,2,3), (4,5,6)])\n",
        "print(e)\n",
        "#here e is rearranged from 2 dimensions and 3 elements each to 3 dimensions and 2 elements each\n",
        "e.reshape(3,2)"
      ],
      "execution_count": null,
      "outputs": [
        {
          "output_type": "stream",
          "name": "stdout",
          "text": [
            "[[1 2 3]\n",
            " [4 5 6]]\n"
          ]
        },
        {
          "output_type": "execute_result",
          "data": {
            "text/plain": [
              "array([[1, 2],\n",
              "       [3, 4],\n",
              "       [5, 6]])"
            ]
          },
          "metadata": {},
          "execution_count": 6
        }
      ]
    },
    {
      "cell_type": "code",
      "metadata": {
        "colab": {
          "base_uri": "https://localhost:8080/"
        },
        "id": "aVgd5Qd08UZZ",
        "outputId": "f390c621-213d-45bd-bcea-5bb1bbdb3533"
      },
      "source": [
        "e.flatten()\n",
        "# here e= np.array([(1,2,3), (4,5,6)])\n",
        "# flatten changes e from [[1 2 3],[4 5 6]] to [1,2,3,4,5,6],which means it it changes all dimensions into a single one"
      ],
      "execution_count": null,
      "outputs": [
        {
          "output_type": "execute_result",
          "data": {
            "text/plain": [
              "array([1, 2, 3, 4, 5, 6])"
            ]
          },
          "metadata": {},
          "execution_count": 7
        }
      ]
    },
    {
      "cell_type": "code",
      "metadata": {
        "id": "gFy4FSQR-I8e",
        "outputId": "7506ed8c-dc85-4758-b72c-a749fadf79e5",
        "colab": {
          "base_uri": "https://localhost:8080/"
        }
      },
      "source": [
        "import numpy as np\n",
        "f = np.array([1,2,3])\n",
        "g = np.array([4,5,6])\n",
        "#here hstack is used to print the data i.e f and g in one horizontal line without commas\n",
        "print('Horizontal Append:', np.hstack((f, g)))"
      ],
      "execution_count": null,
      "outputs": [
        {
          "output_type": "stream",
          "name": "stdout",
          "text": [
            "Horizontal Append: [1 2 3 4 5 6]\n"
          ]
        }
      ]
    },
    {
      "cell_type": "code",
      "metadata": {
        "id": "QoqZ5gD4zO3-",
        "outputId": "ed22761d-21fd-47bf-a858-f96c82b9392c",
        "colab": {
          "base_uri": "https://localhost:8080/"
        }
      },
      "source": [
        "# Horizontal  stack\n",
        "import numpy as np\n",
        "h1 = np.ones((2,4))\n",
        "h2 = np.zeros((2,2))\n",
        "np.hstack((h1,h2))"
      ],
      "execution_count": null,
      "outputs": [
        {
          "output_type": "execute_result",
          "data": {
            "text/plain": [
              "array([[1., 1., 1., 1., 0., 0.],\n",
              "       [1., 1., 1., 1., 0., 0.]])"
            ]
          },
          "metadata": {},
          "execution_count": 2
        }
      ]
    },
    {
      "cell_type": "code",
      "metadata": {
        "colab": {
          "base_uri": "https://localhost:8080/"
        },
        "id": "vGWeV2xt-nN5",
        "outputId": "b8b24fd1-27a7-40ec-b319-f2f82d0293c3"
      },
      "source": [
        "import numpy as np\n",
        "f = np.array([1,2,3])\n",
        "g = np.array([4,5,6])\n",
        "# here vstack is used to print the data vetically like f in a line and g in next like without commas in between \n",
        "print(np.vstack((f, g)))"
      ],
      "execution_count": null,
      "outputs": [
        {
          "output_type": "stream",
          "name": "stdout",
          "text": [
            "[[1 2 3]\n",
            " [4 5 6]]\n"
          ]
        }
      ]
    },
    {
      "cell_type": "code",
      "metadata": {
        "colab": {
          "base_uri": "https://localhost:8080/"
        },
        "id": "0Q7Ia0pqUg0B",
        "outputId": "ee5060da-cc53-4945-8476-7ad28da8d41c"
      },
      "source": [
        "A = np.matrix(np.ones((4,4)))\t\n",
        "# here a matrix of 4*4 order in which all elements are equal\t\n",
        "print(A)"
      ],
      "execution_count": null,
      "outputs": [
        {
          "output_type": "stream",
          "name": "stdout",
          "text": [
            "[[1. 1. 1. 1.]\n",
            " [1. 1. 1. 1.]\n",
            " [1. 1. 1. 1.]\n",
            " [1. 1. 1. 1.]]\n"
          ]
        }
      ]
    },
    {
      "cell_type": "code",
      "metadata": {
        "colab": {
          "base_uri": "https://localhost:8080/"
        },
        "id": "nZiolgyiUw27",
        "outputId": "f99464f4-18e8-4a1e-8d67-5c6ab82e9870"
      },
      "source": [
        "np.asarray(A)[1]=2\n",
        "#here A is a matrix of 4 rows and 4 columns in which each element is 1\n",
        "#here  np.asarray(A)[1]=2 indicates to change 2nd row elements to 2\n",
        "# if np.asarray(A)[2]=2 indicates to change 3rd row elements to 2\n",
        "print(A)"
      ],
      "execution_count": null,
      "outputs": [
        {
          "output_type": "stream",
          "name": "stdout",
          "text": [
            "[[1. 1. 1. 1.]\n",
            " [2. 2. 2. 2.]\n",
            " [1. 1. 1. 1.]\n",
            " [1. 1. 1. 1.]]\n"
          ]
        }
      ]
    },
    {
      "cell_type": "code",
      "metadata": {
        "colab": {
          "base_uri": "https://localhost:8080/"
        },
        "id": "8WKHq9kTWBcw",
        "outputId": "272bce83-93b3-4717-a672-0e52314914a3"
      },
      "source": [
        "np.arange(1, 11)\n",
        "# here 1 is start and 11 is stop(so 11 is not present in the array)\n",
        "# here are elements from 1 to 10 is arranged in a single array"
      ],
      "execution_count": null,
      "outputs": [
        {
          "output_type": "execute_result",
          "data": {
            "text/plain": [
              "array([ 1,  2,  3,  4,  5,  6,  7,  8,  9, 10])"
            ]
          },
          "metadata": {},
          "execution_count": 33
        }
      ]
    },
    {
      "cell_type": "code",
      "metadata": {
        "colab": {
          "base_uri": "https://localhost:8080/"
        },
        "id": "q9eCLOKSWYKm",
        "outputId": "15ec2d48-4332-49d6-afd6-1e8628beaeaf"
      },
      "source": [
        "np.arange(1, 14, 4)\n",
        "# here 1 is start\n",
        "# here 14 is stop(here the numbers will be included which are less thsn 14)\n",
        "# here 4 is the increment which means:\n",
        "# 1 is the start then (1+4=5) is the second element in array\n",
        "# this continues until the number is less than 14"
      ],
      "execution_count": null,
      "outputs": [
        {
          "output_type": "execute_result",
          "data": {
            "text/plain": [
              "array([ 1,  5,  9, 13])"
            ]
          },
          "metadata": {},
          "execution_count": 34
        }
      ]
    },
    {
      "cell_type": "code",
      "metadata": {
        "colab": {
          "base_uri": "https://localhost:8080/"
        },
        "id": "OfZ2AHmRXv4S",
        "outputId": "15ece24e-9ca0-478e-fb64-2fd5d18e0102"
      },
      "source": [
        "import numpy as np\n",
        "np.linspace(4.0, 10.0,num=20)\n",
        "# here 4.0 is start point(first number in sequence)\n",
        "# here 10.0 is end point(last number in sequence)\n",
        "# here num=20 is number of samples needs to be generated\n",
        "# here line space means space is used if there is no decimal number"
      ],
      "execution_count": null,
      "outputs": [
        {
          "output_type": "execute_result",
          "data": {
            "text/plain": [
              "array([ 4.        ,  4.31578947,  4.63157895,  4.94736842,  5.26315789,\n",
              "        5.57894737,  5.89473684,  6.21052632,  6.52631579,  6.84210526,\n",
              "        7.15789474,  7.47368421,  7.78947368,  8.10526316,  8.42105263,\n",
              "        8.73684211,  9.05263158,  9.36842105,  9.68421053, 10.        ])"
            ]
          },
          "metadata": {},
          "execution_count": 39
        }
      ]
    },
    {
      "cell_type": "code",
      "metadata": {
        "colab": {
          "base_uri": "https://localhost:8080/"
        },
        "id": "VXl-xBKxYrmZ",
        "outputId": "68e635e7-3aad-45db-e23c-e21e3c01d560"
      },
      "source": [
        "np.linspace(1.0, 5.0, num=5, endpoint=False)\n",
        "# here 1.0 is start point(first number in sequence)\n",
        "# here 5.0 is end point(last number in sequence)\n",
        "# here num=5 is number of samples needs to be generated\n",
        "# here endpoint = false means endpoint is not included"
      ],
      "execution_count": null,
      "outputs": [
        {
          "output_type": "execute_result",
          "data": {
            "text/plain": [
              "array([1. , 1.8, 2.6, 3.4, 4.2])"
            ]
          },
          "metadata": {},
          "execution_count": 42
        }
      ]
    },
    {
      "cell_type": "code",
      "metadata": {
        "colab": {
          "base_uri": "https://localhost:8080/"
        },
        "id": "DGF5n1gaZEhF",
        "outputId": "8378abb8-ec94-4d80-94dd-718f6734abc7"
      },
      "source": [
        "np.logspace(2.0, 4.0, num=5,endpoint=True)\n",
        "# here default base is 10\n",
        "# here log space means considering the values of start point and end point in log base 10 form\n",
        "# for example 2.0 is start point in the code , 2.0 is written as log 100 base 10\n",
        "# 4.0 is end point in the code it can be written as log 10000 base 10\n",
        "# num=5 which means we need to write 5 numbers between the 100 and 10000\n",
        "# if endpoint is true we can include endpoint in the array\n",
        "# if endpoint is false endpoint is not included in array\n",
        "# we can also define the base value and datatype"
      ],
      "execution_count": null,
      "outputs": [
        {
          "output_type": "execute_result",
          "data": {
            "text/plain": [
              "array([  100.        ,   316.22776602,  1000.        ,  3162.27766017,\n",
              "       10000.        ])"
            ]
          },
          "metadata": {},
          "execution_count": 48
        }
      ]
    },
    {
      "cell_type": "code",
      "metadata": {
        "colab": {
          "base_uri": "https://localhost:8080/"
        },
        "id": "Q96UZX3AbJnJ",
        "outputId": "2ab8a6d4-1fee-4efd-c859-18e97ae7ca8b"
      },
      "source": [
        "x = np.array([10,5], dtype=np.complex128)\n",
        "# here itemsize is number of bytes an item(here 10 is an item , 5 is an item)\n",
        "# each and every element in array is considered as an item\n",
        "# default datatype is int64 in which there are 8 bytes i.e (64/8=8)\n",
        "# for complex128 there are 16 bytes. so item size is 16 bytes\n",
        "x.itemsize"
      ],
      "execution_count": null,
      "outputs": [
        {
          "output_type": "execute_result",
          "data": {
            "text/plain": [
              "16"
            ]
          },
          "metadata": {},
          "execution_count": 56
        }
      ]
    },
    {
      "cell_type": "code",
      "metadata": {
        "colab": {
          "base_uri": "https://localhost:8080/"
        },
        "id": "lQgDvttEejzP",
        "outputId": "96f3d711-493a-4bf8-b012-08134000b8fd"
      },
      "source": [
        "import numpy as np\n",
        "e = np.array([(4,5,6), (7,8,9)])\n",
        "print(e)\n",
        "# here ',' slices the function into 2 parts like [4 5 6] in one  [7 8 9] in other one"
      ],
      "execution_count": null,
      "outputs": [
        {
          "output_type": "stream",
          "name": "stdout",
          "text": [
            "[[4 5 6]\n",
            " [7 8 9]]\n"
          ]
        }
      ]
    },
    {
      "cell_type": "code",
      "metadata": {
        "colab": {
          "base_uri": "https://localhost:8080/"
        },
        "id": "j6rul5jIgwnt",
        "outputId": "312c3a45-b3f3-4d10-e00b-64ff3b9db6b6"
      },
      "source": [
        "# First row\n",
        "print('First row:', e[0])\n",
        "# Here e[0] indicate first row \n",
        "# Second row\n",
        "# e[1] indicate second row\n",
        "print('Second row:', e[1])"
      ],
      "execution_count": null,
      "outputs": [
        {
          "output_type": "stream",
          "name": "stdout",
          "text": [
            "First row: [4 5 6]\n",
            "Second row: [7 8 9]\n"
          ]
        }
      ]
    },
    {
      "cell_type": "code",
      "metadata": {
        "colab": {
          "base_uri": "https://localhost:8080/"
        },
        "id": "PMakke_KhD8u",
        "outputId": "d282f0e0-9439-479e-ae7d-515b732ea4e3"
      },
      "source": [
        "print('First column:', e[:,0])\n",
        "# Here e[:,0] means 1st column "
      ],
      "execution_count": null,
      "outputs": [
        {
          "output_type": "stream",
          "name": "stdout",
          "text": [
            "First column: [4 7]\n"
          ]
        }
      ]
    },
    {
      "cell_type": "code",
      "metadata": {
        "colab": {
          "base_uri": "https://localhost:8080/"
        },
        "id": "1ddkspsYoGZm",
        "outputId": "8a2eb3e2-4eb3-47f6-aecc-a05391ab8654"
      },
      "source": [
        "#Second column 1st one value\n",
        "print(e[:1,1])\n",
        "# in (e[:1,1]) :1 indicates first element of the column and ,1 indicates Second column"
      ],
      "execution_count": null,
      "outputs": [
        {
          "output_type": "stream",
          "name": "stdout",
          "text": [
            "[5 8]\n"
          ]
        }
      ]
    },
    {
      "cell_type": "code",
      "metadata": {
        "colab": {
          "base_uri": "https://localhost:8080/"
        },
        "id": "T5h5IlAjo3kM",
        "outputId": "565d7369-50a0-4493-8816-ecfec01dc053"
      },
      "source": [
        "normal_array = np.random.normal(10, 2, 8)\n",
        "# here 10 is loc(mean)\n",
        "# here  2 is scale(standard deviation)\n",
        "#here 8 is size(no of returns)\n",
        "print(normal_array)"
      ],
      "execution_count": null,
      "outputs": [
        {
          "output_type": "stream",
          "name": "stdout",
          "text": [
            "[ 5.11955145  8.93535362  7.49387709 14.30594402 10.82113473 12.1757518\n",
            "  5.1053117   7.81931144]\n"
          ]
        }
      ]
    },
    {
      "cell_type": "code",
      "metadata": {
        "colab": {
          "base_uri": "https://localhost:8080/"
        },
        "id": "DiEynhwKo_JW",
        "outputId": "cddf72e7-9187-453e-da19-9602a098a267"
      },
      "source": [
        "###Min number in the normal array\n",
        "print(np.min(normal_array))\n",
        "### Max number in the normal array \n",
        "print(np.max(normal_array))\n",
        "### Mean of all numbers in the normal array\n",
        "print(np.mean(normal_array))\n",
        "### Median  of all numbers in the normal array\n",
        "print(np.median(normal_array))\n",
        "### Sd of number in the normal array\n",
        "print(np.std(normal_array))"
      ],
      "execution_count": null,
      "outputs": [
        {
          "output_type": "stream",
          "name": "stdout",
          "text": [
            "5.105311703264474\n",
            "14.30594401665293\n",
            "8.972029482135856\n",
            "8.377332530247532\n",
            "3.070867203943699\n"
          ]
        }
      ]
    },
    {
      "cell_type": "code",
      "metadata": {
        "colab": {
          "base_uri": "https://localhost:8080/"
        },
        "id": "_FQMmpOlpgUX",
        "outputId": "15e6c83b-1bb0-4db9-cbf0-908204f1a845"
      },
      "source": [
        "f = np.array([1,2])\n",
        "g = np.array([4,5])\n",
        "# Here multiplication of corresponding elements in f and g is done ,i.e 1*4+2*5=14\n",
        "np.dot(f, g)\n"
      ],
      "execution_count": null,
      "outputs": [
        {
          "output_type": "execute_result",
          "data": {
            "text/plain": [
              "14"
            ]
          },
          "metadata": {},
          "execution_count": 73
        }
      ]
    },
    {
      "cell_type": "code",
      "metadata": {
        "id": "gfMBl4VmqLze"
      },
      "source": [
        "h = [[1,2],[3,4]] \n",
        "i = [[5,6],[7,8]] \n",
        "# here matmul means product of two matrices(arrays)\n",
        "# 1*5+2*7 = 19\n",
        "np.matmul(h, i)"
      ],
      "execution_count": null,
      "outputs": []
    },
    {
      "cell_type": "code",
      "metadata": {
        "colab": {
          "base_uri": "https://localhost:8080/"
        },
        "id": "8ZW_tuNHsFGh",
        "outputId": "761550ee-144b-439c-b29a-bfd102a74521"
      },
      "source": [
        "# here A needs to be square matrix\n",
        "A = np.array([[6, 1, 1],\n",
        "              [4, -2, 5],\n",
        "              [2, 8, 7]])\n",
        "# inverse of A is caluclated here\n",
        "print(np.linalg.inv(A))"
      ],
      "execution_count": null,
      "outputs": [
        {
          "output_type": "stream",
          "name": "stdout",
          "text": [
            "[[ 0.17647059 -0.00326797 -0.02287582]\n",
            " [ 0.05882353 -0.13071895  0.08496732]\n",
            " [-0.11764706  0.1503268   0.05228758]]\n"
          ]
        }
      ]
    },
    {
      "cell_type": "code",
      "metadata": {
        "colab": {
          "base_uri": "https://localhost:8080/"
        },
        "id": "ftQjBvpAwvg0",
        "outputId": "c08786b5-c15b-41cb-e283-c59c3ad98f36"
      },
      "source": [
        "n_array = np.array([[5, 2, 9], [3, 4, 8],[2, 1, 5]])  \n",
        "# Displaying the Matrix\n",
        "print(\"Numpy Matrix is:\")\n",
        "print(n_array)\n",
        " # Determinent is caluclated here\n",
        "det = np.linalg.det(n_array)\n",
        "print(\"\\nDeterminant of given 3*3 matrix:\")\n",
        "print(int(det))"
      ],
      "execution_count": null,
      "outputs": [
        {
          "output_type": "stream",
          "name": "stdout",
          "text": [
            "Numpy Matrix is:\n",
            "[[5 2 9]\n",
            " [3 4 8]\n",
            " [2 1 5]]\n",
            "\n",
            "Determinant of given 3*3 matrix:\n",
            "17\n"
          ]
        }
      ]
    },
    {
      "cell_type": "code",
      "metadata": {
        "colab": {
          "base_uri": "https://localhost:8080/"
        },
        "id": "ZTA5B_jiuODv",
        "outputId": "83535b57-3027-4ab7-d24d-5ed76d2768a2"
      },
      "source": [
        "m = np.array([[1,1,1],[1,0,2],[1,9,2]])\n",
        "# Here rank of matrix is caluclated using np.linalg.matrix_rank()\n",
        "np.linalg.matrix_rank(m)"
      ],
      "execution_count": null,
      "outputs": [
        {
          "output_type": "execute_result",
          "data": {
            "text/plain": [
              "3"
            ]
          },
          "metadata": {},
          "execution_count": 106
        }
      ]
    },
    {
      "cell_type": "code",
      "metadata": {
        "colab": {
          "base_uri": "https://localhost:8080/"
        },
        "id": "tKPyYz_qvkB8",
        "outputId": "7b06a3a0-ff56-4f8e-8618-0db1b9963c0d"
      },
      "source": [
        "matrix = np.array([\n",
        "[0,2,1],\n",
        "[1,0,2],\n",
        "[1,2,0]\n",
        "])\n",
        "# here eigen values and vectors are caluclated by using np.linalg.eig()\n",
        "eigenvalues, eigenvectors = np.linalg.eig(matrix)\n",
        "print(eigenvalues) \n",
        "print(eigenvectors)"
      ],
      "execution_count": null,
      "outputs": [
        {
          "output_type": "stream",
          "name": "stdout",
          "text": [
            "[-1.  3. -2.]\n",
            "[[-0.90453403  0.57735027  0.48507125]\n",
            " [ 0.30151134  0.57735027 -0.72760688]\n",
            " [ 0.30151134  0.57735027  0.48507125]]\n"
          ]
        }
      ]
    },
    {
      "cell_type": "code",
      "metadata": {
        "colab": {
          "base_uri": "https://localhost:8080/"
        },
        "id": "J8md5n34xM-F",
        "outputId": "6ea07760-de38-4845-e357-e4e729d918d8"
      },
      "source": [
        "g = np.matrix('[6, 2, 8; 3, 4, 6; 1, 7, 10]')        \n",
        "# Here diagonal of a matrix is caluclated using g.diagonal()\n",
        "diag = g.diagonal()\n",
        "print(diag)"
      ],
      "execution_count": null,
      "outputs": [
        {
          "output_type": "stream",
          "name": "stdout",
          "text": [
            "[[ 6  4 10]]\n"
          ]
        }
      ]
    },
    {
      "cell_type": "code",
      "metadata": {
        "colab": {
          "base_uri": "https://localhost:8080/"
        },
        "id": "7hs4gEfFyNk2",
        "outputId": "5fd6c3f9-0962-4ddc-92b8-542bf6a1ad01"
      },
      "source": [
        "f = np.matrix('[4, 1; 12, 3]')              \n",
        "# Here transpose of a matrix is caluclated using f.transpose()\n",
        "trans = f.transpose()   \n",
        "print(trans)"
      ],
      "execution_count": null,
      "outputs": [
        {
          "output_type": "stream",
          "name": "stdout",
          "text": [
            "[[ 4 12]\n",
            " [ 1  3]]\n"
          ]
        }
      ]
    },
    {
      "cell_type": "code",
      "metadata": {
        "colab": {
          "base_uri": "https://localhost:8080/"
        },
        "id": "6PEE09_Ryuio",
        "outputId": "4af43e85-1c6a-45ea-9858-06f5c1cc35e0"
      },
      "source": [
        "a = np.matrix('[4, 2; 1, 6]')           \n",
        "# Here trace of a matrix is caluclated using a.trace()\n",
        "Trace_of_matrix = a.trace()   \n",
        "print(Trace_of_matrix)"
      ],
      "execution_count": null,
      "outputs": [
        {
          "output_type": "stream",
          "name": "stdout",
          "text": [
            "[[10]]\n"
          ]
        }
      ]
    }
  ]
}