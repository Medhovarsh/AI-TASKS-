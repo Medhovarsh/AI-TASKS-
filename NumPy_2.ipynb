{
  "nbformat": 4,
  "nbformat_minor": 0,
  "metadata": {
    "colab": {
      "name": "NumPy-2ipynb",
      "provenance": [],
      "collapsed_sections": []
    },
    "kernelspec": {
      "name": "python3",
      "display_name": "Python 3"
    },
    "language_info": {
      "name": "python"
    }
  },
  "cells": [
    {
      "cell_type": "code",
      "metadata": {
        "id": "T8cHQC6Tti0g"
      },
      "source": [
        "import numpy as np"
      ],
      "execution_count": null,
      "outputs": []
    },
    {
      "cell_type": "code",
      "metadata": {
        "id": "cgbZRaXsty6s",
        "colab": {
          "base_uri": "https://localhost:8080/"
        },
        "outputId": "8415720c-0c7d-488d-c3b4-9e147debb311"
      },
      "source": [
        "a = np.array([1,2,3],dtype=int32)\n",
        "# Here we are defining an array [1,2,3]\n",
        "# datatype of array is also defined as int32 i.e.. it can take 32 bit values\n",
        "print(a)"
      ],
      "execution_count": null,
      "outputs": [
        {
          "output_type": "stream",
          "name": "stdout",
          "text": [
            "[1 2 3]\n"
          ]
        }
      ]
    },
    {
      "cell_type": "code",
      "metadata": {
        "id": "FkR4CSCMt2ja",
        "colab": {
          "base_uri": "https://localhost:8080/"
        },
        "outputId": "e3ab1ad9-2d68-4e52-d2a4-490d98756e34"
      },
      "source": [
        "b = np.array([[9.0,8.0,7.0],[6.0,5.0,4.0]])\n",
        "# here b is a \n",
        "print(b)"
      ],
      "execution_count": null,
      "outputs": [
        {
          "output_type": "stream",
          "name": "stdout",
          "text": [
            "[[9. 8. 7.]\n",
            " [6. 5. 4.]]\n"
          ]
        }
      ]
    },
    {
      "cell_type": "code",
      "metadata": {
        "id": "vQhjBYQZt7YI",
        "colab": {
          "base_uri": "https://localhost:8080/"
        },
        "outputId": "d0e7c903-94f1-4644-d8b8-fc2634552c69"
      },
      "source": [
        "# Get Dimension\n",
        "a.ndim"
      ],
      "execution_count": null,
      "outputs": [
        {
          "output_type": "execute_result",
          "data": {
            "text/plain": [
              "1"
            ]
          },
          "metadata": {},
          "execution_count": 9
        }
      ]
    },
    {
      "cell_type": "code",
      "metadata": {
        "id": "IclpTm7quC8m",
        "colab": {
          "base_uri": "https://localhost:8080/"
        },
        "outputId": "39a72bbe-7d3b-496d-c7e1-189fe82b8ced"
      },
      "source": [
        "# Get Shape\n",
        "# it gives both dimensions and no of elements\n",
        "b.shape"
      ],
      "execution_count": null,
      "outputs": [
        {
          "output_type": "execute_result",
          "data": {
            "text/plain": [
              "(2, 3)"
            ]
          },
          "metadata": {},
          "execution_count": 10
        }
      ]
    },
    {
      "cell_type": "code",
      "metadata": {
        "id": "sbg-bM1juGrw"
      },
      "source": [
        "# Get Type\n",
        "# it gives the data type of array\n",
        "a.dtype"
      ],
      "execution_count": null,
      "outputs": []
    },
    {
      "cell_type": "code",
      "metadata": {
        "id": "onNNRKXjuKPX",
        "colab": {
          "base_uri": "https://localhost:8080/"
        },
        "outputId": "c1ffb1d8-ba7d-4c6c-eee9-47328127a146"
      },
      "source": [
        "\n",
        "# it gives the datatype of each element in the array i.e.. (32/8)=4\n",
        "a.itemsize"
      ],
      "execution_count": null,
      "outputs": [
        {
          "output_type": "execute_result",
          "data": {
            "text/plain": [
              "4"
            ]
          },
          "metadata": {},
          "execution_count": 7
        }
      ]
    },
    {
      "cell_type": "code",
      "metadata": {
        "id": "fPOQqHlRuQHm",
        "colab": {
          "base_uri": "https://localhost:8080/"
        },
        "outputId": "87216173-1277-475a-da4e-7dc38ddee479"
      },
      "source": [
        "# It gives the size of all elments in array i.e.. 3*4=12\n",
        "a.nbytes"
      ],
      "execution_count": null,
      "outputs": [
        {
          "output_type": "execute_result",
          "data": {
            "text/plain": [
              "12"
            ]
          },
          "metadata": {},
          "execution_count": 12
        }
      ]
    },
    {
      "cell_type": "code",
      "metadata": {
        "id": "pkGXfwpAuTnE",
        "colab": {
          "base_uri": "https://localhost:8080/"
        },
        "outputId": "bbd28cdf-da44-4de7-bee5-ebff169d1070"
      },
      "source": [
        "# size means number of elements in an array\n",
        "a.size"
      ],
      "execution_count": null,
      "outputs": [
        {
          "output_type": "execute_result",
          "data": {
            "text/plain": [
              "3"
            ]
          },
          "metadata": {},
          "execution_count": 11
        }
      ]
    },
    {
      "cell_type": "code",
      "metadata": {
        "id": "clgu0Gs4uXk8",
        "colab": {
          "base_uri": "https://localhost:8080/"
        },
        "outputId": "3d473adb-6ace-4c5d-d255-1a12aac6ae4c"
      },
      "source": [
        "a = np.array([[1,2,3,4,5,6,7],[8,9,10,11,12,13,14]])\n",
        "print(a)\n",
        "# here there are 2 rows and 7 elemnts in each\n",
        "# here comma seperates two rows"
      ],
      "execution_count": null,
      "outputs": [
        {
          "output_type": "stream",
          "name": "stdout",
          "text": [
            "[[ 1  2  3  4  5  6  7]\n",
            " [ 8  9 10 11 12 13 14]]\n"
          ]
        }
      ]
    },
    {
      "cell_type": "code",
      "metadata": {
        "id": "_CcKWdwjucDG",
        "colab": {
          "base_uri": "https://localhost:8080/"
        },
        "outputId": "d30c9d39-f5cf-4c8d-ea02-90f04b15f16d"
      },
      "source": [
        "# Get a specific element [r, c]\n",
        "a[1, 5]"
      ],
      "execution_count": null,
      "outputs": [
        {
          "output_type": "execute_result",
          "data": {
            "text/plain": [
              "13"
            ]
          },
          "metadata": {},
          "execution_count": 14
        }
      ]
    },
    {
      "cell_type": "code",
      "metadata": {
        "id": "SuOa0v1Cugzi",
        "colab": {
          "base_uri": "https://localhost:8080/"
        },
        "outputId": "842e4156-5392-4a45-abc6-838cdac0b037"
      },
      "source": [
        "# \n",
        "p=a[0,:]\n",
        "print(p)"
      ],
      "execution_count": null,
      "outputs": [
        {
          "output_type": "stream",
          "name": "stdout",
          "text": [
            "[1 2 3 4 5 6 7]\n"
          ]
        }
      ]
    },
    {
      "cell_type": "code",
      "metadata": {
        "id": "QUL5eH7Ru78Y",
        "colab": {
          "base_uri": "https://localhost:8080/"
        },
        "outputId": "560ed080-9dca-42cd-a9c1-f7a522c6ff54"
      },
      "source": [
        "# Get a specific column\n",
        "a[:, 2]"
      ],
      "execution_count": null,
      "outputs": [
        {
          "output_type": "execute_result",
          "data": {
            "text/plain": [
              "array([ 3, 10])"
            ]
          },
          "metadata": {},
          "execution_count": 6
        }
      ]
    },
    {
      "cell_type": "code",
      "metadata": {
        "id": "JHq2tDJmu_dx",
        "colab": {
          "base_uri": "https://localhost:8080/"
        },
        "outputId": "b8e46474-3441-442c-c31a-e238eed20a31"
      },
      "source": [
        "# Getting a little more fancy [startindex:endindex:stepsize]\n",
        "a[0, 1:-1:2]\n",
        "#"
      ],
      "execution_count": null,
      "outputs": [
        {
          "output_type": "execute_result",
          "data": {
            "text/plain": [
              "array([2, 4, 6])"
            ]
          },
          "metadata": {},
          "execution_count": 5
        }
      ]
    },
    {
      "cell_type": "code",
      "metadata": {
        "id": "Pz-rd_xYvEMH",
        "colab": {
          "base_uri": "https://localhost:8080/"
        },
        "outputId": "607fcb58-6938-44b0-ecf8-5499d3b0a833"
      },
      "source": [
        "a[1,5] = 20\n",
        "a[:,2] = [1,2]\n",
        "print(a)"
      ],
      "execution_count": null,
      "outputs": [
        {
          "output_type": "stream",
          "name": "stdout",
          "text": [
            "[[ 1  2  1  4  5  6  7]\n",
            " [ 8  9  2 11 12 20 14]]\n"
          ]
        }
      ]
    },
    {
      "cell_type": "code",
      "metadata": {
        "id": "k4LWD2AeNe3r"
      },
      "source": [
        "b = np.array([[[1,2],[3,4]],[[5,6],[7,8]]])\n",
        "print(b)"
      ],
      "execution_count": null,
      "outputs": []
    },
    {
      "cell_type": "code",
      "metadata": {
        "id": "inh6_wDfNhsb"
      },
      "source": [
        "# Get specific element (work outside in)\n",
        "b[0,1,1]"
      ],
      "execution_count": null,
      "outputs": []
    },
    {
      "cell_type": "code",
      "metadata": {
        "id": "Zik0XA1CNs79"
      },
      "source": [
        "array([[[1, 2],\n",
        "        [3, 4]],\n",
        "\n",
        "       [[5, 6],\n",
        "        [7, 8]]])"
      ],
      "execution_count": null,
      "outputs": []
    },
    {
      "cell_type": "code",
      "metadata": {
        "id": "A-3zL3j1NwSn"
      },
      "source": [
        "array([[0., 0., 0.],\n",
        "       [0., 0., 0.]])"
      ],
      "execution_count": null,
      "outputs": []
    },
    {
      "cell_type": "code",
      "metadata": {
        "id": "VvfMErIJNzEu"
      },
      "source": [
        "# All 1s matrix\n",
        "np.ones((4,2,2), dtype='int32')"
      ],
      "execution_count": null,
      "outputs": []
    },
    {
      "cell_type": "code",
      "metadata": {
        "id": "0ezpHzJ_N9jA"
      },
      "source": [
        "# Any other number\n",
        "np.full((2,2), 99)"
      ],
      "execution_count": null,
      "outputs": []
    },
    {
      "cell_type": "code",
      "metadata": {
        "id": "Jb0LzEmNOCia"
      },
      "source": [
        "# Any other number (full_like)\n",
        "np.full_like(a, 4)"
      ],
      "execution_count": null,
      "outputs": []
    },
    {
      "cell_type": "code",
      "metadata": {
        "id": "AKq7Z7b-OE-C"
      },
      "source": [
        "# Random decimal numbers\n",
        "np.random.rand(4,2)"
      ],
      "execution_count": null,
      "outputs": []
    },
    {
      "cell_type": "code",
      "metadata": {
        "id": "IfwN2rnKOI5L"
      },
      "source": [
        "# Random Integer values\n",
        "np.random.randint(-4,8, size=(3,3))"
      ],
      "execution_count": null,
      "outputs": []
    },
    {
      "cell_type": "code",
      "metadata": {
        "colab": {
          "base_uri": "https://localhost:8080/"
        },
        "id": "ECDaIoOUOSuH",
        "outputId": "5b48a966-6ad0-4144-9960-eeaecb090288"
      },
      "source": [
        "# The identity matrix\n",
        "np.identity(5)\n",
        "# here "
      ],
      "execution_count": null,
      "outputs": [
        {
          "output_type": "execute_result",
          "data": {
            "text/plain": [
              "array([[1., 0., 0., 0., 0.],\n",
              "       [0., 1., 0., 0., 0.],\n",
              "       [0., 0., 1., 0., 0.],\n",
              "       [0., 0., 0., 1., 0.],\n",
              "       [0., 0., 0., 0., 1.]])"
            ]
          },
          "metadata": {},
          "execution_count": 22
        }
      ]
    },
    {
      "cell_type": "code",
      "metadata": {
        "colab": {
          "base_uri": "https://localhost:8080/"
        },
        "id": "W_u8nTRDOX73",
        "outputId": "375a0707-8176-4386-d71a-20893a7e4c4f"
      },
      "source": [
        "# Repeat an array\n",
        "arr = np.array([[1,2,3]])\n",
        "r1 = np.repeat(arr,3, axis=0)\n",
        "# here we are repeating [1,2,3] in three rows\n",
        "print(r1)"
      ],
      "execution_count": null,
      "outputs": [
        {
          "output_type": "stream",
          "name": "stdout",
          "text": [
            "[[1 2 3]\n",
            " [1 2 3]\n",
            " [1 2 3]]\n"
          ]
        }
      ]
    },
    {
      "cell_type": "code",
      "metadata": {
        "colab": {
          "base_uri": "https://localhost:8080/"
        },
        "id": "IEfsSaHPQFBJ",
        "outputId": "dc1e38b9-437c-4702-94d7-3a0437c29894"
      },
      "source": [
        "a = np.array([1,2,3])\n",
        "b = a.copy()\n",
        "b[0] = 100\n",
        "print(b)\n",
        "# we are defining 1st element 100"
      ],
      "execution_count": null,
      "outputs": [
        {
          "output_type": "stream",
          "name": "stdout",
          "text": [
            "[100   2   3]\n"
          ]
        }
      ]
    },
    {
      "cell_type": "code",
      "metadata": {
        "colab": {
          "base_uri": "https://localhost:8080/"
        },
        "id": "36j1HGJItX8y",
        "outputId": "12abf3d6-5a0f-4bce-80cd-def5047176b9"
      },
      "source": [
        "output = np.ones((5,5))\n",
        "print(output)\n",
        "\n",
        "z = np.zeros((3,3))\n",
        "z[1,1] = 9\n",
        "print(z)\n",
        "# we are merging z with output\n",
        "output[1:-1,1:-1] = z\n",
        "print(output)"
      ],
      "execution_count": null,
      "outputs": [
        {
          "output_type": "stream",
          "text": [
            "[[1. 1. 1. 1. 1.]\n",
            " [1. 1. 1. 1. 1.]\n",
            " [1. 1. 1. 1. 1.]\n",
            " [1. 1. 1. 1. 1.]\n",
            " [1. 1. 1. 1. 1.]]\n",
            "[[0. 0. 0.]\n",
            " [0. 9. 0.]\n",
            " [0. 0. 0.]]\n",
            "[[1. 1. 1. 1. 1.]\n",
            " [1. 0. 0. 0. 1.]\n",
            " [1. 0. 9. 0. 1.]\n",
            " [1. 0. 0. 0. 1.]\n",
            " [1. 1. 1. 1. 1.]]\n"
          ],
          "name": "stdout"
        }
      ]
    },
    {
      "cell_type": "code",
      "metadata": {
        "colab": {
          "base_uri": "https://localhost:8080/"
        },
        "id": "BQiq4fRh574A",
        "outputId": "58efe883-234a-44e2-bd30-1711effc7d7f"
      },
      "source": [
        "a = np.array([1,2,3])\n",
        "b = a.copy()\n",
        "b[0] = 100\n",
        "print(b)"
      ],
      "execution_count": null,
      "outputs": [
        {
          "output_type": "stream",
          "name": "stdout",
          "text": [
            "[100   2   3]\n"
          ]
        }
      ]
    },
    {
      "cell_type": "code",
      "metadata": {
        "colab": {
          "base_uri": "https://localhost:8080/"
        },
        "id": "8wGFAYA36GZN",
        "outputId": "af6d3e26-cf9c-45f8-bce3-7f544ec32081"
      },
      "source": [
        "a + 2"
      ],
      "execution_count": null,
      "outputs": [
        {
          "output_type": "execute_result",
          "data": {
            "text/plain": [
              "array([3, 4, 5])"
            ]
          },
          "metadata": {},
          "execution_count": 8
        }
      ]
    },
    {
      "cell_type": "code",
      "metadata": {
        "colab": {
          "base_uri": "https://localhost:8080/"
        },
        "id": "-DgNnccf97Pv",
        "outputId": "37432b29-b554-4fc3-b8e0-7f9bfc702b71"
      },
      "source": [
        "a - 2"
      ],
      "execution_count": null,
      "outputs": [
        {
          "output_type": "execute_result",
          "data": {
            "text/plain": [
              "array([-1,  0,  1])"
            ]
          },
          "metadata": {},
          "execution_count": 9
        }
      ]
    },
    {
      "cell_type": "code",
      "metadata": {
        "colab": {
          "base_uri": "https://localhost:8080/"
        },
        "id": "wtj5QXHv-IMf",
        "outputId": "b84f0885-ff26-449c-8c2a-cde2017512b2"
      },
      "source": [
        "a / 2"
      ],
      "execution_count": null,
      "outputs": [
        {
          "output_type": "execute_result",
          "data": {
            "text/plain": [
              "array([0.5, 1. , 1.5])"
            ]
          },
          "metadata": {},
          "execution_count": 10
        }
      ]
    },
    {
      "cell_type": "code",
      "metadata": {
        "colab": {
          "base_uri": "https://localhost:8080/"
        },
        "id": "ahQA9Lxi-dX-",
        "outputId": "037be42e-689b-4fa0-fb6f-c49bce451633"
      },
      "source": [
        "b=np.array([1,0,1])\n",
        "a+b"
      ],
      "execution_count": null,
      "outputs": [
        {
          "output_type": "execute_result",
          "data": {
            "text/plain": [
              "array([2, 2, 4])"
            ]
          },
          "metadata": {},
          "execution_count": 12
        }
      ]
    },
    {
      "cell_type": "code",
      "metadata": {
        "colab": {
          "base_uri": "https://localhost:8080/"
        },
        "id": "jV18J1Hs-5K3",
        "outputId": "2fd51d67-b4e2-4e4d-f21f-d4514ed5fc9e"
      },
      "source": [
        "# Take the sin\n",
        "np.cos(a)"
      ],
      "execution_count": null,
      "outputs": [
        {
          "output_type": "execute_result",
          "data": {
            "text/plain": [
              "array([ 0.54030231, -0.41614684, -0.9899925 ])"
            ]
          },
          "metadata": {},
          "execution_count": 14
        }
      ]
    },
    {
      "cell_type": "code",
      "metadata": {
        "id": "GU-o5jvetX80",
        "colab": {
          "base_uri": "https://localhost:8080/"
        },
        "outputId": "d7695dca-e5d4-4b24-91ca-89ff6b9bace7"
      },
      "source": [
        "a ** 2"
      ],
      "execution_count": null,
      "outputs": [
        {
          "output_type": "execute_result",
          "data": {
            "text/plain": [
              "array([1, 4, 9])"
            ]
          },
          "metadata": {},
          "execution_count": 15
        }
      ]
    },
    {
      "cell_type": "code",
      "metadata": {
        "colab": {
          "base_uri": "https://localhost:8080/"
        },
        "id": "U5J1vHeY_D1D",
        "outputId": "014e40a7-2408-4153-dccd-622644c50373"
      },
      "source": [
        "a = np.ones((2,3))\n",
        "print(a)\n",
        "\n",
        "b = np.full((3,2), 2)\n",
        "print(b)\n",
        "\n",
        "np.matmul(a,b)"
      ],
      "execution_count": null,
      "outputs": [
        {
          "output_type": "stream",
          "name": "stdout",
          "text": [
            "[[1. 1. 1.]\n",
            " [1. 1. 1.]]\n",
            "[[2 2]\n",
            " [2 2]\n",
            " [2 2]]\n"
          ]
        },
        {
          "output_type": "execute_result",
          "data": {
            "text/plain": [
              "array([[6., 6.],\n",
              "       [6., 6.]])"
            ]
          },
          "metadata": {},
          "execution_count": 16
        }
      ]
    },
    {
      "cell_type": "code",
      "metadata": {
        "id": "M1Ym5dZqtX80",
        "colab": {
          "base_uri": "https://localhost:8080/"
        },
        "outputId": "bd754f71-ae0b-41f3-9d4c-e0d845e0e309"
      },
      "source": [
        "# Find the determinant\n",
        "c = np.identity(3)\n",
        "np.linalg.det(c)"
      ],
      "execution_count": null,
      "outputs": [
        {
          "output_type": "execute_result",
          "data": {
            "text/plain": [
              "1.0"
            ]
          },
          "metadata": {},
          "execution_count": 17
        }
      ]
    },
    {
      "cell_type": "code",
      "metadata": {
        "colab": {
          "base_uri": "https://localhost:8080/"
        },
        "id": "xfvULXAQ_Qt9",
        "outputId": "2d2498fd-a73f-4b31-e218-ee1e0b64e297"
      },
      "source": [
        "stats = np.array([[1,2,3],[4,5,6]])\n",
        "stats"
      ],
      "execution_count": null,
      "outputs": [
        {
          "output_type": "execute_result",
          "data": {
            "text/plain": [
              "array([[1, 2, 3],\n",
              "       [4, 5, 6]])"
            ]
          },
          "metadata": {},
          "execution_count": 18
        }
      ]
    },
    {
      "cell_type": "code",
      "metadata": {
        "colab": {
          "base_uri": "https://localhost:8080/"
        },
        "id": "PsB3g2ZTANec",
        "outputId": "ab5b2388-fbb6-4f71-cbb6-76e6b71ce435"
      },
      "source": [
        "np.min(stats)"
      ],
      "execution_count": null,
      "outputs": [
        {
          "output_type": "execute_result",
          "data": {
            "text/plain": [
              "1"
            ]
          },
          "metadata": {},
          "execution_count": 19
        }
      ]
    },
    {
      "cell_type": "code",
      "metadata": {
        "colab": {
          "base_uri": "https://localhost:8080/"
        },
        "id": "xIBjDz_6AS8N",
        "outputId": "578875dd-d475-437f-f5f7-355801df124b"
      },
      "source": [
        "np.max(stats,axis=1)\n",
        "# axis=1 means column\n",
        "# which gives max column"
      ],
      "execution_count": null,
      "outputs": [
        {
          "output_type": "execute_result",
          "data": {
            "text/plain": [
              "array([3, 6])"
            ]
          },
          "metadata": {},
          "execution_count": 20
        }
      ]
    },
    {
      "cell_type": "code",
      "metadata": {
        "colab": {
          "base_uri": "https://localhost:8080/"
        },
        "id": "AP-dXiyKAfn8",
        "outputId": "5512a713-5f8d-4ac4-90d8-418eafa7dcda"
      },
      "source": [
        "np.sum(stats, axis=0)\n",
        "# sum of corresponding elements in rows"
      ],
      "execution_count": null,
      "outputs": [
        {
          "output_type": "execute_result",
          "data": {
            "text/plain": [
              "array([5, 7, 9])"
            ]
          },
          "metadata": {},
          "execution_count": 21
        }
      ]
    },
    {
      "cell_type": "code",
      "metadata": {
        "colab": {
          "base_uri": "https://localhost:8080/"
        },
        "id": "zVCx9ZVmBSFm",
        "outputId": "8a933d37-c66d-42f8-8e6c-14c9e5db6317"
      },
      "source": [
        "before = np.array([[1,2,3,4],[5,6,7,8]])\n",
        "print(before)\n",
        "\n",
        "after = before.reshape((4,2))\n",
        "print(after)"
      ],
      "execution_count": null,
      "outputs": [
        {
          "output_type": "stream",
          "name": "stdout",
          "text": [
            "[[1 2 3 4]\n",
            " [5 6 7 8]]\n",
            "[[1 2]\n",
            " [3 4]\n",
            " [5 6]\n",
            " [7 8]]\n"
          ]
        }
      ]
    },
    {
      "cell_type": "code",
      "metadata": {
        "colab": {
          "base_uri": "https://localhost:8080/"
        },
        "id": "_tbL580tBVgg",
        "outputId": "fec1553b-d411-451e-ff68-47fbb55329f2"
      },
      "source": [
        "# Vertically stacking vectors\n",
        "v1 = np.array([1,2,3,4])\n",
        "v2 = np.array([5,6,7,8])\n",
        "# converts into 4 different arrays\n",
        "np.vstack([v1,v2,v1,v2])"
      ],
      "execution_count": null,
      "outputs": [
        {
          "output_type": "execute_result",
          "data": {
            "text/plain": [
              "array([[1, 2, 3, 4],\n",
              "       [5, 6, 7, 8],\n",
              "       [1, 2, 3, 4],\n",
              "       [5, 6, 7, 8]])"
            ]
          },
          "metadata": {},
          "execution_count": 23
        }
      ]
    },
    {
      "cell_type": "code",
      "metadata": {
        "colab": {
          "base_uri": "https://localhost:8080/"
        },
        "id": "2FB6dMHYBjJs",
        "outputId": "afffd869-3abc-4bc0-94a8-5afc6459f783"
      },
      "source": [
        "# Horizontal  stack\n",
        "import numpy as np\n",
        "h1 = np.ones((2,4))\n",
        "h2 = np.zeros((2,2))\n",
        "# convert h1 and h2 into a single array\n",
        "np.hstack((h1,h2))"
      ],
      "execution_count": null,
      "outputs": [
        {
          "output_type": "execute_result",
          "data": {
            "text/plain": [
              "array([[1., 1., 1., 1., 0., 0.],\n",
              "       [1., 1., 1., 1., 0., 0.]])"
            ]
          },
          "metadata": {},
          "execution_count": 29
        }
      ]
    }
  ]
}